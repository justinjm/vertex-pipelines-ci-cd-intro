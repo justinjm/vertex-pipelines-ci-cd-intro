{
 "cells": [
  {
   "cell_type": "markdown",
   "id": "5176d793-f9a7-46d5-b661-ea73595a9066",
   "metadata": {},
   "source": [
    "# 02-Build Image \n",
    "\n",
    "* Create GAR \n",
    "* generate dockerfile \n",
    "* build image from dockerfile on cloud build \n",
    "\n"
   ]
  },
  {
   "cell_type": "markdown",
   "id": "d705539c-e20a-48b5-a79c-b0390e1926c9",
   "metadata": {},
   "source": [
    "## Define Constants"
   ]
  },
  {
   "cell_type": "code",
   "execution_count": 1,
   "id": "e96e22fb-2ac6-428d-a632-2aef224f1e03",
   "metadata": {},
   "outputs": [],
   "source": [
    "PROJECT_ID = \"demos-vertex-ai\" \n",
    "REGION = \"us-central1\"\n",
    "\n",
    "BUCKET_NAME=\"gs://\" + PROJECT_ID + \"-aip-pipeline-cicd\"\n",
    "\n",
    "PRIVATE_REPO = \"automl-beans\"\n",
    "\n",
    "\n",
    "IMAGE_NAME = \"automl-beans\"  # @param {type:\"string\"}\n",
    "IMAGE_TAG = \"latest\"  # @param {type:\"string\"}\n",
    "IMAGE_URI = f\"{REGION}-docker.pkg.dev/{PROJECT_ID}/{PRIVATE_REPO}/{IMAGE_NAME}:{IMAGE_TAG}\""
   ]
  },
  {
   "cell_type": "markdown",
   "id": "86af4d98-fafd-46ad-b37b-a069a491e96a",
   "metadata": {},
   "source": [
    "#### Create a private Docker repository\n",
    "\n",
    "Your first step is to create your own Docker repository in Google Artifact Registry.\n",
    "\n",
    "1.  Run the `gcloud artifacts repositories create` command to create a new Docker repository with your region with the description \"docker repository\".\n",
    "    \n",
    "2.  Run the `gcloud artifacts repositories list` command to verify that your repository was created."
   ]
  },
  {
   "cell_type": "code",
   "execution_count": 3,
   "id": "1428ca1b-ce09-4102-a6a1-d179b21f97ca",
   "metadata": {},
   "outputs": [
    {
     "name": "stdout",
     "output_type": "stream",
     "text": [
      "Create request issued for: [automl-beans]\n",
      "Waiting for operation [projects/demos-vertex-ai/locations/us-central1/operation\n",
      "s/1ef58fbe-df51-40f6-932d-f05724d47106] to complete...done.                    \n",
      "Created repository [automl-beans].\n",
      "Listing items under project demos-vertex-ai, across all locations.\n",
      "\n",
      "                                                                    ARTIFACT_REGISTRY\n",
      "REPOSITORY    FORMAT  MODE                 DESCRIPTION        LOCATION     LABELS  ENCRYPTION          CREATE_TIME          UPDATE_TIME          SIZE (MB)\n",
      "asia.gcr.io   DOCKER  STANDARD_REPOSITORY                     asia                 Google-managed key  2022-10-18T19:20:32  2022-10-18T19:20:32  0\n",
      "automl-beans  DOCKER  STANDARD_REPOSITORY  Docker repository  us-central1          Google-managed key  2022-10-19T20:07:45  2022-10-19T20:07:45  0\n",
      "eu.gcr.io     DOCKER  STANDARD_REPOSITORY                     europe               Google-managed key  2022-10-18T19:20:25  2022-10-18T19:20:25  0\n",
      "gcr.io        DOCKER  STANDARD_REPOSITORY                     us                   Google-managed key  2022-10-18T19:20:17  2022-10-18T19:20:17  0\n",
      "r-on-vertex   DOCKER  STANDARD_REPOSITORY  Docker repository  us-central1          Google-managed key  2022-10-10T19:11:01  2022-10-10T19:29:41  2448.343\n",
      "us.gcr.io     DOCKER  STANDARD_REPOSITORY                     us                   Google-managed key  2022-10-18T19:20:16  2022-10-18T19:20:16  0\n"
     ]
    }
   ],
   "source": [
    "! gcloud artifacts repositories create $PRIVATE_REPO --repository-format=docker \\\n",
    "    --location=$REGION \\\n",
    "    --description=\"Docker repository\"\n",
    "\n",
    "! gcloud artifacts repositories list"
   ]
  },
  {
   "cell_type": "markdown",
   "id": "aed0f9d2-0a6b-4a9c-bf58-2fa1d37afdaf",
   "metadata": {},
   "source": [
    "#### Configure authentication to your private repo\n",
    "Before you push or pull container images, configure Docker to use the gcloud command-line tool to authenticate requests to Artifact Registry for your region."
   ]
  },
  {
   "cell_type": "code",
   "execution_count": 9,
   "id": "9a9ba1e8-5e38-442f-8673-486b51397039",
   "metadata": {},
   "outputs": [
    {
     "name": "stdout",
     "output_type": "stream",
     "text": [
      "\u001b[1;33mWARNING:\u001b[0m Your config file at [/home/jupyter/.docker/config.json] contains these credential helper entries:\n",
      "\n",
      "{\n",
      "  \"credHelpers\": {\n",
      "    \"gcr.io\": \"gcloud\",\n",
      "    \"us.gcr.io\": \"gcloud\",\n",
      "    \"eu.gcr.io\": \"gcloud\",\n",
      "    \"asia.gcr.io\": \"gcloud\",\n",
      "    \"staging-k8s.gcr.io\": \"gcloud\",\n",
      "    \"marketplace.gcr.io\": \"gcloud\",\n",
      "    \"us-central1-docker.pkg.dev\": \"gcloud\"\n",
      "  }\n",
      "}\n",
      "Adding credentials for: us-central1-docker.pkg.dev\n",
      "gcloud credential helpers already registered correctly.\n"
     ]
    }
   ],
   "source": [
    "! gcloud auth configure-docker $REGION-docker.pkg.dev --quiet"
   ]
  },
  {
   "cell_type": "code",
   "execution_count": 2,
   "id": "5506074f-a828-485a-9d92-cd9c27072375",
   "metadata": {},
   "outputs": [
    {
     "name": "stdout",
     "output_type": "stream",
     "text": [
      "Overwriting Dockerfile\n"
     ]
    }
   ],
   "source": [
    "%%writefile Dockerfile\n",
    "# Download dependencies to /root/.local.\n",
    "FROM python:3.7-slim AS builder\n",
    "COPY requirements.txt .\n",
    "\n",
    "RUN pip install -r requirements.txt\n",
    "\n",
    "# # Pull new image to only keep the things we need.\n",
    "# FROM python:3.7-slim\n",
    "# WORKDIR /src\n",
    "\n",
    "# Copy downloaded dependencies.\n",
    "# COPY --from=builder /root/.local /root/.local\n",
    "COPY . .\n",
    "\n",
    "# Update python path.\n",
    "# ENV PATH=/root/.local:$PATH"
   ]
  },
  {
   "cell_type": "markdown",
   "id": "7a00d1c8-8ade-47fa-8298-9127db2caccf",
   "metadata": {},
   "source": [
    "### Build the Docker container\n",
    "\n",
    "Next, you build the Docker container image on Cloud Build -- the serverless CI/CD platform.\n",
    "\n",
    "*Note:* Building the Docker container image may take 10 to 15 minutes."
   ]
  },
  {
   "cell_type": "code",
   "execution_count": 4,
   "id": "3c7ec7e3-4295-462e-b901-48abdb033fd6",
   "metadata": {},
   "outputs": [
    {
     "name": "stdout",
     "output_type": "stream",
     "text": [
      "Creating temporary tarball archive of 14 file(s) totalling 121.4 KiB before compression.\n",
      "Some files were not included in the source upload.\n",
      "\n",
      "Check the gcloud log [/home/jupyter/.config/gcloud/logs/2022.10.19/20.57.46.092428.log] to see which files and the contents of the\n",
      "default gcloudignore file used (see `$ gcloud topic gcloudignore` to learn\n",
      "more).\n",
      "\n",
      "Uploading tarball of [./] to [gs://demos-vertex-ai_cloudbuild/source/1666213066.191132-972d8fa2114a4dc2a70e8782c3be0cf9.tgz]\n",
      "Created [https://cloudbuild.googleapis.com/v1/projects/demos-vertex-ai/locations/us-central1/builds/0cf984e7-c407-4aa3-ba57-ab2ccbc35393].\n",
      "Logs are available at [ https://console.cloud.google.com/cloud-build/builds;region=us-central1/0cf984e7-c407-4aa3-ba57-ab2ccbc35393?project=746038361521 ].\n",
      "ID                                    CREATE_TIME                DURATION  SOURCE                                                                                         IMAGES                                                                          STATUS\n",
      "0cf984e7-c407-4aa3-ba57-ab2ccbc35393  2022-10-19T20:57:46+00:00  59S       gs://demos-vertex-ai_cloudbuild/source/1666213066.191132-972d8fa2114a4dc2a70e8782c3be0cf9.tgz  us-central1-docker.pkg.dev/demos-vertex-ai/automl-beans/automl-beans (+1 more)  SUCCESS\n"
     ]
    }
   ],
   "source": [
    "! gcloud builds submit --region=$REGION --tag=$IMAGE_URI --timeout=1h --suppress-logs ./  "
   ]
  }
 ],
 "metadata": {
  "environment": {
   "kernel": "python3",
   "name": "common-cpu.m98",
   "type": "gcloud",
   "uri": "gcr.io/deeplearning-platform-release/base-cpu:m98"
  },
  "kernelspec": {
   "display_name": "Python 3",
   "language": "python",
   "name": "python3"
  },
  "language_info": {
   "codemirror_mode": {
    "name": "ipython",
    "version": 3
   },
   "file_extension": ".py",
   "mimetype": "text/x-python",
   "name": "python",
   "nbconvert_exporter": "python",
   "pygments_lexer": "ipython3",
   "version": "3.7.12"
  }
 },
 "nbformat": 4,
 "nbformat_minor": 5
}
