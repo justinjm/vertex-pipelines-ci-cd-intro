{
 "cells": [
  {
   "cell_type": "markdown",
   "id": "208e967e-28d8-4582-8ef8-db391ab0c40a",
   "metadata": {},
   "source": [
    "# 01-Pipeline - Build\n",
    "\n",
    "Write code in seperate python file  [`src/pipelines/train_pipeline.py`](src/pipelines/train_pipeline.py) and test locally with [`src/build_and_deploy.py`](src/build_and_deploy.py)\n"
   ]
  }
 ],
 "metadata": {
  "environment": {
   "kernel": "python3",
   "name": "common-cpu.m98",
   "type": "gcloud",
   "uri": "gcr.io/deeplearning-platform-release/base-cpu:m98"
  },
  "kernelspec": {
   "display_name": "Python 3.9.6 64-bit",
   "language": "python",
   "name": "python3"
  },
  "language_info": {
   "codemirror_mode": {
    "name": "ipython",
    "version": 3
   },
   "file_extension": ".py",
   "mimetype": "text/x-python",
   "name": "python",
   "nbconvert_exporter": "python",
   "pygments_lexer": "ipython3",
   "version": "3.9.6"
  },
  "vscode": {
   "interpreter": {
    "hash": "31f2aee4e71d21fbe5cf8b01ff0e069b9275f58929596ceb00d14d90e3e16cd6"
   }
  }
 },
 "nbformat": 4,
 "nbformat_minor": 5
}
