{
 "cells": [
  {
   "cell_type": "code",
   "execution_count": null,
   "id": "b01df4d2-dc78-46b4-b921-ee4daee403e2",
   "metadata": {},
   "outputs": [],
   "source": []
  },
  {
   "cell_type": "code",
   "execution_count": null,
   "id": "9a164274-6308-48b4-90c9-5f97b6042505",
   "metadata": {},
   "outputs": [],
   "source": [
    "#Initialize pipeline object\n",
    "from pipelines.train_pipeline import pipeline_controller\n",
    "import time\n",
    "\n",
    "PROJECT_ID = \"demos-vertex-ai\"\n",
    "REGION=\"us-central1\"\n",
    "\n",
    "BUCKET_NAME=\"gs://\" + PROJECT_ID + \"-aip-pipeline-cicd\"\n",
    "BUCKET_NAME\n",
    "\n",
    "PIPELINE_ROOT = f\"{BUCKET_NAME}/pipeline_root/\"\n",
    "PIPELINE_ROOT\n",
    "\n",
    "DISPLAY_NAME = 'automl-beans{}'.format(str(int(time.time())))\n",
    "DISPLAY_NAME\n",
    "\n",
    "pipe = pipeline_controller(template_path=\"tab_classif_pipeline.json\",\n",
    "                           display_name=\"automl-tab-beans-training\", \n",
    "                           pipeline_root=PIPELINE_ROOT,\n",
    "                           project_id=PROJECT_ID,\n",
    "                           region=REGION)\n",
    "\n",
    "#Build and Compile pipeline\n",
    "pipe._build_compile_pipeline()\n",
    "\n",
    "# #Submit Job\n",
    "pipe._submit_job()"
   ]
  }
 ],
 "metadata": {
  "environment": {
   "kernel": "python3",
   "name": "common-cpu.m98",
   "type": "gcloud",
   "uri": "gcr.io/deeplearning-platform-release/base-cpu:m98"
  },
  "kernelspec": {
   "display_name": "Python 3",
   "language": "python",
   "name": "python3"
  },
  "language_info": {
   "codemirror_mode": {
    "name": "ipython",
    "version": 3
   },
   "file_extension": ".py",
   "mimetype": "text/x-python",
   "name": "python",
   "nbconvert_exporter": "python",
   "pygments_lexer": "ipython3",
   "version": "3.7.12"
  }
 },
 "nbformat": 4,
 "nbformat_minor": 5
}
