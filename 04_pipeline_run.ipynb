{
 "cells": [
  {
   "cell_type": "markdown",
   "id": "05d66eb4-dff3-4b93-9eb2-2aed0262a1d6",
   "metadata": {},
   "source": [
    "# 04 - Pipeline Run\n",
    "\n",
    "Test pipeline execution manually with helper functions."
   ]
  },
  {
   "cell_type": "code",
   "execution_count": 2,
   "id": "9a164274-6308-48b4-90c9-5f97b6042505",
   "metadata": {},
   "outputs": [
    {
     "name": "stdout",
     "output_type": "stream",
     "text": [
      "INFO:google.cloud.aiplatform.pipeline_jobs:Creating PipelineJob\n"
     ]
    },
    {
     "name": "stderr",
     "output_type": "stream",
     "text": [
      "/home/jupyter/.local/lib/python3.7/site-packages/kfp/v2/compiler/compiler.py:1266: FutureWarning: APIs imported from the v1 namespace (e.g. kfp.dsl, kfp.components, etc) will not be supported by the v2 compiler since v2.0.0\n",
      "  category=FutureWarning,\n"
     ]
    },
    {
     "name": "stdout",
     "output_type": "stream",
     "text": [
      "INFO:google.cloud.aiplatform.pipeline_jobs:PipelineJob created. Resource name: projects/746038361521/locations/us-central1/pipelineJobs/automl-tab-beans-training-v2-20221020011249\n",
      "INFO:google.cloud.aiplatform.pipeline_jobs:To use this PipelineJob in another session:\n",
      "INFO:google.cloud.aiplatform.pipeline_jobs:pipeline_job = aiplatform.PipelineJob.get('projects/746038361521/locations/us-central1/pipelineJobs/automl-tab-beans-training-v2-20221020011249')\n",
      "INFO:google.cloud.aiplatform.pipeline_jobs:View Pipeline Job:\n",
      "https://console.cloud.google.com/vertex-ai/locations/us-central1/pipelines/runs/automl-tab-beans-training-v2-20221020011249?project=746038361521\n"
     ]
    }
   ],
   "source": [
    "#Initialize pipeline object\n",
    "from pipelines.train_pipeline import pipeline_controller\n",
    "import time\n",
    "\n",
    "PROJECT_ID = \"demos-vertex-ai\"\n",
    "REGION=\"us-central1\"\n",
    "\n",
    "BUCKET_NAME=\"gs://\" + PROJECT_ID + \"-aip-pipeline-cicd\"\n",
    "BUCKET_NAME\n",
    "\n",
    "PIPELINE_ROOT = f\"{BUCKET_NAME}/pipeline_root/\"\n",
    "PIPELINE_ROOT\n",
    "\n",
    "DISPLAY_NAME = 'automl-beans{}'.format(str(int(time.time())))\n",
    "DISPLAY_NAME\n",
    "\n",
    "pipe = pipeline_controller(template_path=\"tab_classif_pipeline.json\",\n",
    "                           display_name=\"automl-tab-beans-training\", \n",
    "                           pipeline_root=PIPELINE_ROOT,\n",
    "                           project_id=PROJECT_ID,\n",
    "                           region=REGION)\n",
    "\n",
    "#Build and Compile pipeline\n",
    "pipe._build_compile_pipeline()\n",
    "\n",
    "# #Submit Job\n",
    "pipe._submit_job()"
   ]
  }
 ],
 "metadata": {
  "environment": {
   "kernel": "python3",
   "name": "common-cpu.m98",
   "type": "gcloud",
   "uri": "gcr.io/deeplearning-platform-release/base-cpu:m98"
  },
  "kernelspec": {
   "display_name": "Python 3",
   "language": "python",
   "name": "python3"
  },
  "language_info": {
   "codemirror_mode": {
    "name": "ipython",
    "version": 3
   },
   "file_extension": ".py",
   "mimetype": "text/x-python",
   "name": "python",
   "nbconvert_exporter": "python",
   "pygments_lexer": "ipython3",
   "version": "3.7.12"
  }
 },
 "nbformat": 4,
 "nbformat_minor": 5
}
