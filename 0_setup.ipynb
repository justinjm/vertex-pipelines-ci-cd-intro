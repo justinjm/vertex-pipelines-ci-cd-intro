{
 "cells": [
  {
   "cell_type": "markdown",
   "id": "4836951e-193d-42e8-b96d-6983496b6203",
   "metadata": {},
   "source": [
    "# Setup \n",
    "\n"
   ]
  },
  {
   "cell_type": "markdown",
   "id": "79415e25",
   "metadata": {},
   "source": [
    "## specify parameters"
   ]
  },
  {
   "cell_type": "code",
   "execution_count": 2,
   "id": "b359d323-e636-40a9-a4e3-efb62985b92b",
   "metadata": {},
   "outputs": [],
   "source": [
    "PROJECT_ID = \"your-project-id\"\n",
    "REGION = \"us-central1\"\n",
    "BUCKET_NAME = f\"bkt-{PROJECT_ID}-vpipelines\"\n",
    "BUCKET_PATH = f\"gs://{BUCKET_NAME}\""
   ]
  },
  {
   "cell_type": "code",
   "execution_count": null,
   "id": "61027262-5296-451a-b584-570183c92398",
   "metadata": {},
   "outputs": [],
   "source": [
    "#####################################################################\n",
    "#\n",
    "# create needed resources\n",
    "#\n",
    "#####################################################################"
   ]
  },
  {
   "cell_type": "code",
   "execution_count": null,
   "id": "b27db316-adab-4394-9cd4-a21a70304913",
   "metadata": {},
   "outputs": [],
   "source": [
    "# check if bucket exists\n",
    "def check_bucket_existence(PROJECT_ID, BUCKET_PATH):\n",
    "    from google.cloud import storage\n",
    "    from google.cloud.storage import Bucket\n",
    "\n",
    "    client = storage.Client(project=PROJECT_ID)\n",
    "    exists = Bucket(client, BUCKET_PATH).exists()\n",
    "    return exists\n",
    "\n",
    "# create bucket if needed\n",
    "if check_bucket_existence(PROJECT_ID, BUCKET_NAME) == False:\n",
    "    ! gsutil mb -c standard -l $REGION -b on -p $PROJECT_ID $BUCKET_PATH\n",
    "    ! gsutil ls\n",
    "else:\n",
    "    print(f\"Bucket {BUCKET_NAME} already exists\")"
   ]
  }
 ],
 "metadata": {
  "environment": {
   "kernel": "python3",
   "name": "common-cpu.m97",
   "type": "gcloud",
   "uri": "gcr.io/deeplearning-platform-release/base-cpu:m97"
  },
  "kernelspec": {
   "display_name": "Python 3.9.6 64-bit",
   "language": "python",
   "name": "python3"
  },
  "language_info": {
   "codemirror_mode": {
    "name": "ipython",
    "version": 3
   },
   "file_extension": ".py",
   "mimetype": "text/x-python",
   "name": "python",
   "nbconvert_exporter": "python",
   "pygments_lexer": "ipython3",
   "version": "3.9.6"
  },
  "vscode": {
   "interpreter": {
    "hash": "31f2aee4e71d21fbe5cf8b01ff0e069b9275f58929596ceb00d14d90e3e16cd6"
   }
  }
 },
 "nbformat": 4,
 "nbformat_minor": 5
}
