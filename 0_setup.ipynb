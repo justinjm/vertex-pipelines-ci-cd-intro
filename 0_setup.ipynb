{
 "cells": [
  {
   "cell_type": "code",
   "execution_count": null,
   "id": "014a9da3-9bef-450e-a1bb-a981c2a2a197",
   "metadata": {},
   "outputs": [],
   "source": [
    "# installs\n",
    "! pip3 install --user --upgrade kfp google-cloud-pipeline-components --quiet\n",
    "! pip3 install --user --upgrade google-cloud-aiplatform --quiet\n",
    "! pip3 install --user --upgrade google-cloud-storage --quiet\n",
    "\n",
    "! python3 -c \"import kfp; print('KFP SDK version: {}'.format(kfp.__version__))\"\n",
    "! python3 -c \"import google_cloud_pipeline_components; print('google_cloud_pipeline_components version: {}'.format(google_cloud_pipeline_components.__version__))\""
   ]
  },
  {
   "cell_type": "code",
   "execution_count": null,
   "id": "1c49bd3d-23c2-4be6-8a79-81acde233e16",
   "metadata": {},
   "outputs": [],
   "source": [
    "### Now restart the notebook kernel\n",
    "# in the top toolbar:  \"Kernel\" -> \"Restart Kernel\""
   ]
  },
  {
   "cell_type": "code",
   "execution_count": null,
   "id": "4836951e-193d-42e8-b96d-6983496b6203",
   "metadata": {},
   "outputs": [],
   "source": [
    "#####################################################################\n",
    "#\n",
    "# setup\n",
    "#\n",
    "#####################################################################"
   ]
  },
  {
   "cell_type": "code",
   "execution_count": 2,
   "id": "b359d323-e636-40a9-a4e3-efb62985b92b",
   "metadata": {},
   "outputs": [],
   "source": [
    "# specify parameters\n",
    "PROJECT_ID = \"your-project-id\"\n",
    "REGION = \"us-central1\"\n",
    "BUCKET_NAME = f\"bkt-{PROJECT_ID}-vpipelines\"\n",
    "BUCKET_PATH = f\"gs://{BUCKET_NAME}\""
   ]
  },
  {
   "cell_type": "code",
   "execution_count": null,
   "id": "61027262-5296-451a-b584-570183c92398",
   "metadata": {},
   "outputs": [],
   "source": [
    "#####################################################################\n",
    "#\n",
    "# create needed resources\n",
    "#\n",
    "#####################################################################"
   ]
  },
  {
   "cell_type": "code",
   "execution_count": null,
   "id": "b27db316-adab-4394-9cd4-a21a70304913",
   "metadata": {},
   "outputs": [],
   "source": [
    "# check if bucket exists\n",
    "def check_bucket_existence(PROJECT_ID, BUCKET_PATH):\n",
    "    from google.cloud import storage\n",
    "    from google.cloud.storage import Bucket\n",
    "\n",
    "    client = storage.Client(project=PROJECT_ID)\n",
    "    exists = Bucket(client, BUCKET_PATH).exists()\n",
    "    return exists\n",
    "\n",
    "# create bucket if needed\n",
    "if check_bucket_existence(PROJECT_ID, BUCKET_NAME) == False:\n",
    "    ! gsutil mb -c standard -l $REGION -b on -p $PROJECT_ID $BUCKET_PATH\n",
    "    ! gsutil ls\n",
    "else:\n",
    "    print(f\"Bucket {BUCKET_NAME} already exists\")"
   ]
  }
 ],
 "metadata": {
  "environment": {
   "kernel": "python3",
   "name": "common-cpu.m97",
   "type": "gcloud",
   "uri": "gcr.io/deeplearning-platform-release/base-cpu:m97"
  },
  "kernelspec": {
   "display_name": "Python 3",
   "language": "python",
   "name": "python3"
  },
  "language_info": {
   "codemirror_mode": {
    "name": "ipython",
    "version": 3
   },
   "file_extension": ".py",
   "mimetype": "text/x-python",
   "name": "python",
   "nbconvert_exporter": "python",
   "pygments_lexer": "ipython3",
   "version": "3.7.12"
  }
 },
 "nbformat": 4,
 "nbformat_minor": 5
}
